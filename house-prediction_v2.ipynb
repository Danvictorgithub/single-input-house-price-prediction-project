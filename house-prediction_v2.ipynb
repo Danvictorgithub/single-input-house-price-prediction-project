{
 "cells": [
  {
   "cell_type": "code",
   "execution_count": 1,
   "id": "e2d67479-49d7-4f2e-8984-fbdbd43138a2",
   "metadata": {},
   "outputs": [],
   "source": [
    "import matplotlib.pyplot as plt\n",
    "import csv\n",
    "from sklearn.model_selection import train_test_split \n",
    "from sklearn.linear_model import LinearRegression"
   ]
  },
  {
   "cell_type": "code",
   "execution_count": 2,
   "id": "684cc1fd-0cbd-4c93-9084-cd7c6c6ae26f",
   "metadata": {},
   "outputs": [],
   "source": [
    "# Dataset Variable Initialization\n",
    "x_data = []\n",
    "y_data = []\n",
    "dataset = []\n",
    "m = 0 #20"
   ]
  },
  {
   "cell_type": "code",
   "execution_count": 3,
   "id": "be769980-278a-4759-a424-da8696f6aef2",
   "metadata": {},
   "outputs": [],
   "source": [
    "with open('sampledataset.csv', mode ='r')as file:\n",
    "  csvFile = csv.reader(file)\n",
    "  dataset_temp = list(csvFile)\n",
    "  dataset_temp.pop(0)\n",
    "  dataset = dataset_temp\n",
    "  m = len(dataset) #20 Dataset"
   ]
  },
  {
   "cell_type": "code",
   "execution_count": 4,
   "id": "ab82409a-ae82-4e14-b2be-c96e6fa7f9d6",
   "metadata": {},
   "outputs": [],
   "source": [
    "x_data = [int(row[0]) for row in dataset]\n",
    "y_data = [int(row[1].replace(',', '')) for row in dataset]"
   ]
  },
  {
   "cell_type": "code",
   "execution_count": 9,
   "id": "e59d70f0-2ccf-4017-8042-5acc9c15950b",
   "metadata": {},
   "outputs": [
    {
     "name": "stdout",
     "output_type": "stream",
     "text": [
      "[1625, 2100, 1750, 1300, 2300, 1850, 1400, 1900, 1550, 2000, 1700, 1250, 2250, 1800, 1350, 1950, 1600, 2150, 1750, 1300]\n",
      "[3250000, 4700000, 3500000, 2700000, 5200000, 3800000, 2900000, 4000000, 3100000, 4500000, 3400000, 2600000, 5000000, 3700000, 2800000, 4100000, 3300000, 4800000, 3500000, 2700000]\n",
      "num of x data: 20\n",
      "num of y data: 20\n"
     ]
    }
   ],
   "source": [
    "print(x_data)\n",
    "print(y_data)\n",
    "print(f\"num of x data: {len(x_data)}\")\n",
    "print(f\"num of y data: {len(y_data)}\")"
   ]
  },
  {
   "cell_type": "code",
   "execution_count": 11,
   "id": "486758d8-9c47-4e61-aad5-dec2dd5f43db",
   "metadata": {},
   "outputs": [
    {
     "data": {
      "image/png": "[encoded data removed]",
      "text/plain": [
       "<Figure size 640x480 with 1 Axes>"
      ]
     },
     "metadata": {},
     "output_type": "display_data"
    }
   ],
   "source": [
    "plt.scatter(x_data,y_data)\n",
    "plt.title(\"House Price Dataset\")\n",
    "plt.xlabel(\"House Price (PHP)\")\n",
    "plt.ylabel(\"House Area (sq.m)\")\n",
    "plt.show()"
   ]
  },
  {
   "cell_type": "code",
   "execution_count": 23,
   "id": "e0479da0-1b9e-4821-a2ab-72fb08ea6852",
   "metadata": {},
   "outputs": [
    {
     "name": "stdout",
     "output_type": "stream",
     "text": [
      "Predicted prices for some test samples: [3384772.39353891 4656593.24522761 4172090.06363191 4535467.44982868]\n",
      "Mean Squared Error (MSE): 17749258178.72\n",
      "Model saved successfully!\n"
     ]
    }
   ],
   "source": [
    "x_train, x_test, y_train, y_test = train_test_split(x_data, y_data, test_size=0.2, random_state=42)  # Split data\n",
    "\n",
    "# Training the Linear Regression Model\n",
    "regr = LinearRegression()  # Create a linear regression model\n",
    "regr.fit(np.array(x_train).reshape(-1, 1), y_train)  # Reshape x_train for 2D compatibility\n",
    "\n",
    "# Making Predictions (optional)\n",
    "y_pred = regr.predict(np.array(x_test).reshape(-1, 1))  # Reshape x_test for predictions\n",
    "print(\"Predicted prices for some test samples:\", y_pred[:5])  # Print the first 5 predictions\n",
    "\n",
    "# Model Evaluation (optional)\n",
    "from sklearn.metrics import mean_squared_error\n",
    "\n",
    "mse = mean_squared_error(y_test, y_pred)\n",
    "print(f\"Mean Squared Error (MSE): {mse:.2f}\")  \n",
    "  # Report the MSE with two decimal places\n",
    "\n",
    "# Saving the Model (optional)\n",
    "from joblib import dump\n",
    "\n",
    "dump(regr, 'house_price_model.pkl')  # Save the model as 'house_price_model.pkl' (change the filename if needed)\n",
    "print(\"Model saved successfully!\")"
   ]
  },
  {
   "cell_type": "code",
   "execution_count": null,
   "id": "52d8b07f-3996-48f1-8b39-b5f23a1f2bfb",
   "metadata": {},
   "outputs": [],
   "source": []
  },
  {
   "cell_type": "code",
   "execution_count": null,
   "id": "1dd1fd7f-4ead-427e-a023-65a041ef4e6e",
   "metadata": {},
   "outputs": [],
   "source": []
  },
  {
   "cell_type": "code",
   "execution_count": null,
   "id": "0773e9da-cca8-4751-bf6d-163b7a8fc0cb",
   "metadata": {},
   "outputs": [],
   "source": []
  }
 ],
 "metadata": {
  "kernelspec": {
   "display_name": "Python 3 (ipykernel)",
   "language": "python",
   "name": "python3"
  },
  "language_info": {
   "codemirror_mode": {
    "name": "ipython",
    "version": 3
   },
   "file_extension": ".py",
   "mimetype": "text/x-python",
   "name": "python",
   "nbconvert_exporter": "python",
   "pygments_lexer": "ipython3",
   "version": "3.12.4"
  }
 },
 "nbformat": 4,
 "nbformat_minor": 5
}
